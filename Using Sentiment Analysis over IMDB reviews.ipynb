{
 "cells": [
  {
   "cell_type": "markdown",
   "metadata": {},
   "source": [
    "#Análisis de Sentimientos sobre revisiones de IMDB"
   ]
  },
  {
   "cell_type": "markdown",
   "metadata": {},
   "source": [
    "Obtenemos el dataset y procesamos los datos de test para evaluar el modelo"
   ]
  },
  {
   "cell_type": "code",
   "execution_count": 1,
   "metadata": {
    "collapsed": false
   },
   "outputs": [],
   "source": [
    "import random\n",
    "reviewsheader = ['id\\tsentiment\\treview']\n",
    "reviews = []\n",
    "pos = \"data/aclImdb/test/posfiles.txt\"\n",
    "neg = \"data/aclImdb/test/negfiles.txt\"\n",
    "for line in open(pos):\n",
    "    filename = line.rstrip()\n",
    "    with open(\"data/aclImdb/test/pos/\"+filename, \"rb\") as f:\n",
    "        review = f.read()\n",
    "    reviews.append('\"'+filename[:-4]+'\"\\t1\\t\"'+' '.join(review.split())+'\"')\n",
    "\n",
    "for line in open(neg):\n",
    "    filename = line.rstrip()\n",
    "    with open(\"data/aclImdb/test/neg/\"+filename, \"rb\") as f:\n",
    "        review = f.read()\n",
    "    reviews.append('\"'+filename[:-4]+'\"\\t0\\t\"'+' '.join(review.split())+'\"')\n",
    "random.shuffle(reviews, random.random)\n",
    "#for item in thelist:\n",
    "#  thefile.write(\"%s\\n\" % item)"
   ]
  },
  {
   "cell_type": "code",
   "execution_count": 2,
   "metadata": {
    "collapsed": true
   },
   "outputs": [],
   "source": [
    "reviews = reviewsheader + reviews"
   ]
  },
  {
   "cell_type": "markdown",
   "metadata": {},
   "source": [
    "Este es un ejemplo de las revisiones en el conjunto de test"
   ]
  },
  {
   "cell_type": "code",
   "execution_count": 3,
   "metadata": {
    "collapsed": false
   },
   "outputs": [
    {
     "data": {
      "text/plain": [
       "['id\\tsentiment\\treview',\n",
       " '\"3797_8\"\\t1\\t\"In this era when almost everything makes it on to DVD (I\\'m expecting to see the My Mother the Car collection any day now) this film has been unfairly neglected. There are innumerable stupid comedies from the 60\\'s as well as many other eras that have received at least a cursory DVD treatment. This one wasn\\'t even released on VHS to my knowledge, despite the talents involved in the making (Arthur Hiller, Eli Wallach, Anne Jackson, Murray Shisgal (notable later for co-writing Tootsie), even Dustin Hoffman in his debut). It\\'s obviously a product of the sixties but so is just about everything else from that era. All films reflect the tastes and customs of the times in which they are made. This was released the same year as The President\\'s Analyst, another absurd masterpiece. That film was finally released on DVD and has developed a cult following. This film has many memorable bizarre, goofy, wacky moments. Sure, it\\'s painted in broad strokes and has silly go-go music throughout but that\\'s part of its charm. It creates its own absurd universe. If whoever is in charge of DVD production for Columbia Pictures releases (I believe Columbia released it) takes polls for new releases this gets my vote.\"',\n",
       " '\"71_4\"\\t0\\t\"There are many different versions of this one floating around, so make sure you can locate one of the unrated copies, otherwise some gore and one scene of nudity might be missing. Some versions also omit most of the opening sequence and other bits here and there. The cut I saw has the on-screen title WITCHCRAFT: EVIL ENCOUNTERS and was released by Shriek Show, who maintain the original US release title WITCHERY for the DVD release. It\\'s a nice-looking print and seems to have all of the footage, but has some cropping/aspect ratio issues. In Italy, it was released as LA CASA 4 (WITCHCRAFT). The first two LA CASA releases were actually the first two EVIL DEAD films (retitled) and the third LA CASA was another film by the same production company (Filmirage), which is best known here in America as GHOSTHOUSE. To make matters even more confusing, WITCHERY was also released elsewhere as GHOSTHOUSE 2. Except in Germany, where GHOSTHOUSE 2 is actually THE OGRE: DEMONS 3. OK, I better just shut up now. I\\'m starting to confuse myself!<br /><br />Regardless of the title, this is a very hit-or-miss horror effort. Some of it is good, some of it isn\\'t. I actually was into this film for the first half or so, but toward the end it became a senseless mess. A large, vacant hotel located on an island about 50 miles from Boston is the setting, as various people get picked off one-by-one by a German- speaking witch (Hildegard Knef). Photographer Gary (David Hasselhoff), who wants to capture \"Witch Light,\" and his virginal writer girlfriend (Leslie Cumming), who is studying witchcraft, are shacking up at the hotel without permission. Along comes real estate agent Jerry (Rick Farnsworth), who\\'s showing off the property to potential buyers Rose (Annie Ross) and Freddie (Robert Champagne) Brooks. Also tagging along are their children; pregnant grown daughter Jane (Linda Blair) and very young son Tommy (Michael Manchester), as well as oversexed architect Linda Sullivan (Catherine Hickland - Hasselhoff\\'s wife at the time). Once everyone is inside, their boat driver is killed (hung) and the boat disappears, so they find themselves trapped and basically at the mercy of the \"Lady in Black.\"<br /><br />So what can you expect to find here? Plenty of unpleasantries! One of the characters has their lips sewn shut and is then hung upside down in the fireplace and accidentally slow-roasted by the rest of the cast. There\\'s also a crucifixion, witches eating a dead baby, a swordfish through the head, someone set on fire, a possession, a Sesame Street tape recorder, the virgin getting raped by some demon, a guys veins bulging and exploding thanks to voodoo doll pokes and some other stuff. From a technical standpoint, it\\'s a nice-looking film with pretty good cinematography, a decent score and good gore effects. The hotel/island setting is also pretty nice. Blair (particularly at the end) and Ross both seem like they\\'re having fun and Knef is great as the evil witch. Even though people like to ridicule Hasselhoff these days, he\\'s not bad in his role, either.<br /><br />On the down side, despite all the gore, the film seems somewhat dull and it gets monotonous after about an hour. The supernatural themes are muddled and confusing, too. When characters are being swept into the witches lair to be tortured and killed, the filmmakers unwisely decided to superimpose the screaming actors over some silly looking red spiral vortex effect that looks supremely cheesy. And the witch lair itself is vacant and cheaply designed with unfinished lumber. And while most of the cast is at least decent, a few of the performances (particularly the \"actress\" who plays Hasselhoff\\'s girlfriend and the kid) are so bad they\\'re constantly distracting.\"',\n",
       " '\"10012_9\"\\t1\\t\"My wife is a mental health therapist and we watched it from beginning to end. I am the typical man and can not stand chick flicks, but this movie is unbelievable. If you want to see what it is like for someone who is going through these type of struggles, this is the movie for you. As I watched it I found myself feeling sorry for him and others like him. <br /><br />***Spoiler*** Plus the fact that all the individuals in the movie including the people in the mental institution were the actual people in real life made it that more real.<br /><br />A must see for someone in the mental health profession!\"',\n",
       " '\"2893_3\"\\t0\\t\"This is a really really bad movie. However It\\'s good to laugh at the horrible ideas and \"special\" effects. The plot centers around an EU space agency that discovers a 10th planet that orbits directly opposite the Earth. They send a maned mission (they have been to Mars and have yet to discover this planet? Is anybody stupid enough to fall for this?) to the planet and can you believe it, it\\'s the mirror image of the planet they came from. Most everything is predictable from that point. Honestly from the title of the movie you can guess just about everything. The only surprising thing here is a maned space program run by Eurpoeans :) There really can be no excuse for the plot concept or execution. So it\\'s good for a laugh or maybe if you are in an altered state of consciousness.\"']"
      ]
     },
     "execution_count": 3,
     "metadata": {},
     "output_type": "execute_result"
    }
   ],
   "source": [
    "reviews[:5]"
   ]
  },
  {
   "cell_type": "code",
   "execution_count": 4,
   "metadata": {
    "collapsed": false
   },
   "outputs": [],
   "source": [
    "f = open('labeledTestSet.tsv', 'w')\n",
    "for item in reviews:\n",
    "    f.write(\"%s\\n\" % item)\n",
    "f.close()"
   ]
  },
  {
   "cell_type": "markdown",
   "metadata": {},
   "source": [
    "Aquí cargamos los datos de entrenamiento y prueba"
   ]
  },
  {
   "cell_type": "code",
   "execution_count": 5,
   "metadata": {
    "collapsed": false
   },
   "outputs": [],
   "source": [
    "import pandas as pd \n",
    "from bs4 import BeautifulSoup\n",
    "import re\n",
    "import nltk\n",
    "from nltk.corpus import stopwords\n",
    "train = pd.read_csv(\"labeledTrainData.tsv\", header=0, delimiter=\"\\t\", quoting=3)\n",
    "test = pd.read_csv(\"labeledTestSet.tsv\", header=0, delimiter=\"\\t\", quoting=3)"
   ]
  },
  {
   "cell_type": "markdown",
   "metadata": {},
   "source": [
    "Limpiamos las revisiones"
   ]
  },
  {
   "cell_type": "code",
   "execution_count": 9,
   "metadata": {
    "collapsed": false
   },
   "outputs": [],
   "source": [
    "num_reviews = train[\"review\"].size\n",
    "\n",
    "clean_train_reviews = []\n",
    "\n",
    "for i in xrange( 0, num_reviews ):\n",
    "    clean_train_reviews.append( review_to_words( train[\"review\"][i] ) )"
   ]
  },
  {
   "cell_type": "markdown",
   "metadata": {},
   "source": [
    "Aquí usaremos un extractor de características sobre texto que tiene en cuenta la frecuencia de las palabras sobre el conjunto de datos de entrenamiento"
   ]
  },
  {
   "cell_type": "code",
   "execution_count": 10,
   "metadata": {
    "collapsed": true
   },
   "outputs": [],
   "source": [
    "from sklearn.feature_extraction.text import CountVectorizer\n",
    "vectorizer = CountVectorizer(analyzer = \"word\", tokenizer = None, preprocessor = None, stop_words = None, max_features = 5000) \n",
    "\n",
    "trainfeat = vectorizer.fit_transform(clean_train_reviews)\n",
    "trainfeat = trainfeat.toarray()"
   ]
  },
  {
   "cell_type": "code",
   "execution_count": 11,
   "metadata": {
    "collapsed": false
   },
   "outputs": [
    {
     "name": "stdout",
     "output_type": "stream",
     "text": [
      "(25000, 5000)\n"
     ]
    }
   ],
   "source": [
    "print trainfeat.shape"
   ]
  },
  {
   "cell_type": "markdown",
   "metadata": {},
   "source": [
    "Usaremos varios clasificadores para probar las características que extraimos usando Cross Validation con 5 folds estratificados. Usaremos Support Vector Machine con un kernel lineal y Random Forest"
   ]
  },
  {
   "cell_type": "code",
   "execution_count": 12,
   "metadata": {
    "collapsed": true
   },
   "outputs": [],
   "source": [
    "from sklearn.ensemble import RandomForestClassifier\n",
    "\n",
    "forest = RandomForestClassifier(n_estimators = 100) \n",
    "forest = forest.fit( trainfeat, train[\"sentiment\"] )"
   ]
  },
  {
   "cell_type": "code",
   "execution_count": null,
   "metadata": {
    "collapsed": true
   },
   "outputs": [],
   "source": [
    "clf = svm.SVC(C=1)\n",
    "clf.fit(trainfeat, train[\"sentiment\"])"
   ]
  },
  {
   "cell_type": "code",
   "execution_count": null,
   "metadata": {
    "collapsed": true
   },
   "outputs": [],
   "source": [
    "print test.shape\n",
    "num_reviews = len(test[\"review\"])\n",
    "clean_test_reviews = [] \n",
    "\n",
    "for i in xrange(0,num_reviews):\n",
    "    clean_review = review_to_words( test[\"review\"][i] )\n",
    "    clean_test_reviews.append( clean_review )\n",
    "\n",
    "testfeat = vectorizer.transform(clean_test_reviews)\n",
    "testfeat = testfeat.toarray()\n",
    "\n",
    "ypred = clf.predict(testfeat)"
   ]
  },
  {
   "cell_type": "code",
   "execution_count": 15,
   "metadata": {
    "collapsed": false
   },
   "outputs": [
    {
     "name": "stdout",
     "output_type": "stream",
     "text": [
      "(25000, 3)\n"
     ]
    }
   ],
   "source": [
    "print test.shape\n",
    "num_reviews = len(test[\"review\"])\n",
    "clean_test_reviews = [] \n",
    "\n",
    "for i in xrange(0,num_reviews):\n",
    "    clean_review = review_to_words( test[\"review\"][i] )\n",
    "    clean_test_reviews.append( clean_review )\n",
    "\n",
    "testfeat = vectorizer.transform(clean_test_reviews)\n",
    "testfeat = testfeat.toarray()\n",
    "\n",
    "ypred = forest.predict(testfeat)"
   ]
  },
  {
   "cell_type": "code",
   "execution_count": 33,
   "metadata": {
    "collapsed": false
   },
   "outputs": [
    {
     "data": {
      "text/plain": [
       "GridSearchCV(cv=sklearn.cross_validation.StratifiedKFold(labels=[1 1 ..., 0 1], n_folds=5, shuffle=False, random_state=None),\n",
       "       estimator=RandomForestClassifier(bootstrap=True, compute_importances=None,\n",
       "            criterion='gini', max_depth=None, max_features='auto',\n",
       "            max_leaf_nodes=None, min_density=None, min_samples_leaf=1,\n",
       "            min_samples_split=2, n_estimators=10, n_jobs=1,\n",
       "            oob_score=False, random_state=None, verbose=0),\n",
       "       fit_params={}, iid=True, loss_func=None, n_jobs=-1,\n",
       "       param_grid=[{'n_estimators': [1, 10, 100]}],\n",
       "       pre_dispatch='2*n_jobs', refit=True, score_func=None, scoring=None,\n",
       "       verbose=0)"
      ]
     },
     "execution_count": 33,
     "metadata": {},
     "output_type": "execute_result"
    }
   ],
   "source": [
    "ytrain = np.array(train[\"sentiment\"].tolist())\n",
    "ytest = np.array(test[\"sentiment\"].tolist())\n",
    "skf = StratifiedKFold(ytrain, n_folds=5)\n",
    "\n",
    "Cparameters = []\n",
    "for a in range(-3, 3):\n",
    "    Cparameters.append(2 ** a)\n",
    "    \n",
    "nparameters = []\n",
    "for a in range(3):\n",
    "    nparameters.append(10 ** a)\n",
    "\n",
    "    \n",
    "tuned_parameterssvc = [{'kernel': ['linear'], 'C': Cparameters}]\n",
    "tuned_parametersrf = [{'n_estimators': nparameters}]\n",
    "#clfsvc = grid_search.GridSearchCV(estimator=svm.SVC(), param_grid=tuned_parameterssvc, n_jobs=-1, cv=skf, scoring=accuracy_score())\n",
    "#clfsvc.fit(trainfeat, train[\"sentiment\"])\n",
    "clfrf = grid_search.GridSearchCV(estimator=RandomForestClassifier(), param_grid=tuned_parametersrf, n_jobs=-1, cv=skf)\n",
    "clfrf.fit(trainfeat, ytrain)"
   ]
  },
  {
   "cell_type": "code",
   "execution_count": 34,
   "metadata": {
    "collapsed": false
   },
   "outputs": [
    {
     "data": {
      "text/plain": [
       "[mean: 0.65552, std: 0.00431, params: {'n_estimators': 1},\n",
       " mean: 0.77748, std: 0.00403, params: {'n_estimators': 10},\n",
       " mean: 0.84512, std: 0.00469, params: {'n_estimators': 100}]"
      ]
     },
     "execution_count": 34,
     "metadata": {},
     "output_type": "execute_result"
    }
   ],
   "source": [
    "clfrf.grid_scores_"
   ]
  },
  {
   "cell_type": "markdown",
   "metadata": {},
   "source": [
    "Aquí usamos el parámetro que mejor resultado nos dió en la exploración de parámetros"
   ]
  },
  {
   "cell_type": "code",
   "execution_count": 36,
   "metadata": {
    "collapsed": false
   },
   "outputs": [],
   "source": [
    "from sklearn.ensemble import RandomForestClassifier\n",
    "\n",
    "forest = RandomForestClassifier(n_estimators = 100, n_jobs=-1) \n",
    "forest = forest.fit( trainfeat, ytrain )"
   ]
  },
  {
   "cell_type": "code",
   "execution_count": 37,
   "metadata": {
    "collapsed": true
   },
   "outputs": [],
   "source": [
    "ypred = forest.predict(testfeat)"
   ]
  },
  {
   "cell_type": "code",
   "execution_count": 39,
   "metadata": {
    "collapsed": false
   },
   "outputs": [
    {
     "name": "stdout",
     "output_type": "stream",
     "text": [
      "0.84424\n"
     ]
    }
   ],
   "source": [
    "print accuracy_score(ytest, ypred)"
   ]
  },
  {
   "cell_type": "markdown",
   "metadata": {
    "collapsed": true
   },
   "source": [
    "Este es el resultado sobre test usando la mejor combinación de parámetros. COn accuracy de 84,4%"
   ]
  },
  {
   "cell_type": "markdown",
   "metadata": {
    "collapsed": true
   },
   "source": [
    "#Código Adicional"
   ]
  },
  {
   "cell_type": "code",
   "execution_count": 22,
   "metadata": {
    "collapsed": true
   },
   "outputs": [],
   "source": [
    "from sklearn.metrics import f1_score, precision_score, accuracy_score, recall_score\n",
    "from sklearn.cross_validation import StratifiedKFold\n",
    "from sklearn import svm, grid_search, datasets\n",
    "import numpy as np"
   ]
  },
  {
   "cell_type": "code",
   "execution_count": 8,
   "metadata": {
    "collapsed": true
   },
   "outputs": [],
   "source": [
    "def review_to_words( raw_review ):\n",
    "    review_text = BeautifulSoup(raw_review).get_text()        \n",
    "    letters_only = re.sub(\"[^a-zA-Z]\", \" \", review_text)\n",
    "    words = letters_only.lower().split()\n",
    "    stops = set(stopwords.words(\"english\"))\n",
    "    meaningful_words = [w for w in words if not w in stops]\n",
    "    return( \" \".join( meaningful_words ))"
   ]
  },
  {
   "cell_type": "code",
   "execution_count": null,
   "metadata": {
    "collapsed": true
   },
   "outputs": [],
   "source": []
  }
 ],
 "metadata": {
  "kernelspec": {
   "display_name": "Python 2",
   "language": "python",
   "name": "python2"
  },
  "language_info": {
   "codemirror_mode": {
    "name": "ipython",
    "version": 2
   },
   "file_extension": ".py",
   "mimetype": "text/x-python",
   "name": "python",
   "nbconvert_exporter": "python",
   "pygments_lexer": "ipython2",
   "version": "2.7.10"
  }
 },
 "nbformat": 4,
 "nbformat_minor": 0
}
